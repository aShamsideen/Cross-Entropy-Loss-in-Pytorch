{
 "cells": [
  {
   "cell_type": "markdown",
   "id": "939cf342-19ed-433d-bcf9-2d1f792c00b4",
   "metadata": {},
   "source": [
    "## Training Logistic Regression with Cross-Entropy Loss in Pytorch"
   ]
  },
  {
   "cell_type": "markdown",
   "id": "09cdfda8-b233-4f47-87bd-6b3ed1237905",
   "metadata": {},
   "source": [
    "### Preparing the Data and the Model"
   ]
  },
  {
   "cell_type": "code",
   "execution_count": 15,
   "id": "f0aa6e42-5257-4efa-ad7c-1382d5261125",
   "metadata": {},
   "outputs": [],
   "source": [
    "import torch\n",
    "from torch.utils.data import Dataset, DataLoader\n",
    "\n",
    "class Data(Dataset):\n",
    "    def __init__(self):\n",
    "        self.x = torch.arange(-2, 2, 0.1).view(-1, 1)\n",
    "        self.y = torch.zeros(self.x.shape[0], 1)\n",
    "        self.y[self.x[:, 0] > 0.2] = 1\n",
    "        self.len = self.x.shape[0]\n",
    "        \n",
    "    def __getitem__(self, idx):\n",
    "        return self.x[idx], self.y[idx]\n",
    "    \n",
    "    def __len__(self):\n",
    "        return self.len"
   ]
  },
  {
   "cell_type": "code",
   "execution_count": 2,
   "id": "6c9c9814-81a4-4715-b35e-4e510f51dab2",
   "metadata": {},
   "outputs": [],
   "source": [
    "data_set = Data() "
   ]
  },
  {
   "cell_type": "code",
   "execution_count": 3,
   "id": "c0f891a0-8a40-44c9-8109-2ed858445a72",
   "metadata": {},
   "outputs": [],
   "source": [
    "class LogisticRegression(torch.nn.Module):\n",
    "    \n",
    "    def __init__(self, n_inputs):\n",
    "        super().__init__()\n",
    "        self.linear = torch.nn.Linear(n_inputs, 1)\n",
    "        \n",
    "    def forward(self, x):\n",
    "        y_pred = torch.sigmoid(self.linear(x))\n",
    "        return  y_pred"
   ]
  },
  {
   "cell_type": "code",
   "execution_count": 4,
   "id": "e8fbecad-0cf0-459a-9b78-facb519ee77f",
   "metadata": {},
   "outputs": [],
   "source": [
    "log_regr = LogisticRegression(1)"
   ]
  },
  {
   "cell_type": "code",
   "execution_count": 5,
   "id": "c3db7b38-eb48-419a-b808-26b5bc60ba47",
   "metadata": {},
   "outputs": [
    {
     "name": "stdout",
     "output_type": "stream",
     "text": [
      "checking parameters: OrderedDict([('linear.weight', tensor([[0.4535]])), ('linear.bias', tensor([0.2719]))])\n"
     ]
    }
   ],
   "source": [
    "print('checking parameters:', log_regr.state_dict())"
   ]
  },
  {
   "cell_type": "markdown",
   "id": "3c9f6f2f-f22f-49fa-9375-47491db1a398",
   "metadata": {},
   "source": [
    "### Model Training with Cross-Entropy "
   ]
  },
  {
   "cell_type": "code",
   "execution_count": 13,
   "id": "30367814-a2d7-4aa4-974a-e0905adc8cc0",
   "metadata": {},
   "outputs": [],
   "source": [
    "optimizer = torch.optim.SGD(log_regr.parameters(), lr=2)\n",
    "criterion = torch.nn.BCELoss()"
   ]
  },
  {
   "cell_type": "code",
   "execution_count": 16,
   "id": "74d8a502-f5dd-4401-9739-43e4df502f94",
   "metadata": {},
   "outputs": [],
   "source": [
    "# Creating the DataLoader\n",
    "train_loader = DataLoader(dataset=data_set, batch_size=2)"
   ]
  },
  {
   "cell_type": "code",
   "execution_count": 17,
   "id": "4c81aabe-7198-4598-b728-c1c0024081f0",
   "metadata": {},
   "outputs": [
    {
     "name": "stdout",
     "output_type": "stream",
     "text": [
      "epoch = 0, loss = 0.0010112141026183963\n",
      "epoch = 1, loss = 0.00021319999359548092\n",
      "epoch = 2, loss = 7.766808266751468e-05\n",
      "epoch = 3, loss = 3.510780516080558e-05\n",
      "epoch = 4, loss = 1.7941174519364722e-05\n",
      "epoch = 5, loss = 9.95403024717234e-06\n",
      "epoch = 6, loss = 5.90087938689976e-06\n",
      "epoch = 7, loss = 3.695495706779184e-06\n",
      "epoch = 8, loss = 2.3245843294716906e-06\n",
      "epoch = 9, loss = 1.549722128402209e-06\n",
      "epoch = 10, loss = 1.0132795296158292e-06\n",
      "epoch = 11, loss = 7.748607231405913e-07\n",
      "epoch = 12, loss = 5.364419735087722e-07\n",
      "epoch = 13, loss = 4.172326271145721e-07\n",
      "epoch = 14, loss = 2.3841860752327193e-07\n",
      "epoch = 15, loss = 1.788139627478813e-07\n",
      "epoch = 16, loss = 1.788139627478813e-07\n",
      "epoch = 17, loss = 1.1920930376163597e-07\n",
      "epoch = 18, loss = 5.960465188081798e-08\n",
      "epoch = 19, loss = 5.960465188081798e-08\n",
      "epoch = 20, loss = 5.960465188081798e-08\n",
      "epoch = 21, loss = 5.960465188081798e-08\n",
      "epoch = 22, loss = 0.0\n",
      "epoch = 23, loss = 0.0\n",
      "epoch = 24, loss = 0.0\n",
      "epoch = 25, loss = 0.0\n",
      "epoch = 26, loss = 0.0\n",
      "epoch = 27, loss = 0.0\n",
      "epoch = 28, loss = 0.0\n",
      "epoch = 29, loss = 0.0\n",
      "epoch = 30, loss = 0.0\n",
      "epoch = 31, loss = 0.0\n",
      "epoch = 32, loss = 0.0\n",
      "epoch = 33, loss = 0.0\n",
      "epoch = 34, loss = 0.0\n",
      "epoch = 35, loss = 0.0\n",
      "epoch = 36, loss = 0.0\n",
      "epoch = 37, loss = 0.0\n",
      "epoch = 38, loss = 0.0\n",
      "epoch = 39, loss = 0.0\n",
      "epoch = 40, loss = 0.0\n",
      "epoch = 41, loss = 0.0\n",
      "epoch = 42, loss = 0.0\n",
      "epoch = 43, loss = 0.0\n",
      "epoch = 44, loss = 0.0\n",
      "epoch = 45, loss = 0.0\n",
      "epoch = 46, loss = 0.0\n",
      "epoch = 47, loss = 0.0\n",
      "epoch = 48, loss = 0.0\n",
      "epoch = 49, loss = 0.0\n",
      "Done!\n"
     ]
    }
   ],
   "source": [
    "Loss = []\n",
    "epochs = 50\n",
    "for epoch in range (epochs):\n",
    "    for x, y in train_loader:\n",
    "        y_pred = log_regr(x)\n",
    "        loss = criterion(y_pred, y)\n",
    "        Loss.append(loss.item())\n",
    "        optimizer.zero_grad()\n",
    "        loss.backward()\n",
    "        optimizer.step()\n",
    "    print(f'epoch = {epoch}, loss = {loss}')\n",
    "print('Done!')"
   ]
  },
  {
   "cell_type": "code",
   "execution_count": 18,
   "id": "e0bf57b0-3957-48be-9e2f-46714b4357e2",
   "metadata": {},
   "outputs": [
    {
     "data": {
      "image/png": "[encoded data removed]",
      "text/plain": [
       "<Figure size 432x288 with 1 Axes>"
      ]
     },
     "metadata": {
      "needs_background": "light"
     },
     "output_type": "display_data"
    }
   ],
   "source": [
    "import matplotlib.pyplot as plt\n",
    "\n",
    "plt.plot(Loss)\n",
    "plt.xlabel('no. of iterations')\n",
    "plt.ylabel('total loss')\n",
    "plt.show()"
   ]
  },
  {
   "cell_type": "markdown",
   "id": "8b73804d-d0c0-4fcf-8c6a-b6552a3c3d8c",
   "metadata": {},
   "source": [
    "### Verify with Test Data"
   ]
  },
  {
   "cell_type": "code",
   "execution_count": 19,
   "id": "985f3411-b6f8-458e-ac91-164d03d3267e",
   "metadata": {},
   "outputs": [
    {
     "name": "stdout",
     "output_type": "stream",
     "text": [
      "Model Accuracy on Test Data: tensor(1.)\n"
     ]
    }
   ],
   "source": [
    "y_pred = log_regr(data_set.x)\n",
    "label = y_pred > 0.5 \n",
    "print('Model Accuracy on Test Data:', \n",
    "      torch.mean((label == data_set.y.type(torch.ByteTensor)).type(torch.float)))"
   ]
  }
 ],
 "metadata": {
  "kernelspec": {
   "display_name": "Python 3 (ipykernel)",
   "language": "python",
   "name": "python3"
  },
  "language_info": {
   "codemirror_mode": {
    "name": "ipython",
    "version": 3
   },
   "file_extension": ".py",
   "mimetype": "text/x-python",
   "name": "python",
   "nbconvert_exporter": "python",
   "pygments_lexer": "ipython3",
   "version": "3.9.12"
  }
 },
 "nbformat": 4,
 "nbformat_minor": 5
}
